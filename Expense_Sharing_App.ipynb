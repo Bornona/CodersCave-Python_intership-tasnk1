{
  "nbformat": 4,
  "nbformat_minor": 0,
  "metadata": {
    "colab": {
      "provenance": []
    },
    "kernelspec": {
      "name": "python3",
      "display_name": "Python 3"
    },
    "language_info": {
      "name": "python"
    }
  },
  "cells": [
    {
      "cell_type": "code",
      "source": [
        "class ExpenseSharingApp:\n",
        "    def __init__(self) -> None:\n",
        "        self.friends = []\n",
        "\n",
        "    def get_friends(self) -> None:\n",
        "        number_of_friends = int(input(\"Enter number of friends among which the bill has to be split: \"))\n",
        "        for i in range(1, number_of_friends + 1):\n",
        "            (self.friends.append(input(f\"Friend {i}'s name: \").capitalize()))\n",
        "\n",
        "    @staticmethod\n",
        "    def show_expense_table(friends_list, share) -> None:\n",
        "        max_name_length = max(len(name) for name in friends_list)\n",
        "        max_amount_length = len(\"Amount to be Paid\")\n",
        "\n",
        "        print(f'\\nSplitted Bill:')\n",
        "        print(f\"\\n\\t {'Name':<{max_name_length}} \\t\\t {'Amount to be Paid in Rupees':<{max_name_length}}\")\n",
        "        print(\"\\t\" + \"-\" * (max_name_length + max_amount_length + 25))\n",
        "        for friend in friends_list:\n",
        "            print(f\"\\t {friend:<{max_name_length}} \\t\\t ₹ {share[friend]:<{max_name_length}}\")\n",
        "\n",
        "    def split_bill(self, amount, split_type, balance=None):\n",
        "        if amount <= 0:\n",
        "            exit(f\"Exited with code 0: Amount Can't be Negative\")\n",
        "\n",
        "        share = {person: 0 for person in self.friends}\n",
        "\n",
        "        if split_type == \"equal\":\n",
        "            equal_share = amount / len(self.friends)\n",
        "            equal_share = round(equal_share, 2)\n",
        "            for person in self.friends:\n",
        "                share[person] = equal_share\n",
        "\n",
        "        elif split_type == \"proportional\":\n",
        "            proportions = [int(input(f'Enter proportion for {person}: ')) for person in self.friends]\n",
        "            total_proportion = sum(proportions)\n",
        "            for i, person in enumerate(self.friends):\n",
        "                share[person] += round(((amount * proportions[i]) / total_proportion), 2)\n",
        "\n",
        "        else:\n",
        "            print(f'Invalid split type entered. Please choose \\'equal\\' or \\'proportional\\'.')\n",
        "            return\n",
        "\n",
        "        if balance:\n",
        "            for person, amount in share.items():\n",
        "                balance[person] += amount\n",
        "\n",
        "        self.show_expense_table(self.friends, share)\n",
        "\n",
        "    @staticmethod\n",
        "    def show_payment_status(payment_status_list, friends) -> None:\n",
        "        max_name_length = max(len(name) for name in friends)\n",
        "        max_status_length = len(\"Paid/Not Paid\")\n",
        "\n",
        "        print(f'\\nPayment Status:')\n",
        "\n",
        "        print(f\"\\n\\t {'Name':<{max_name_length}} \\t\\t {'Paid/Not Paid':{max_name_length}}\")\n",
        "        print(\"\\t\" + \"-\" * (max_name_length + max_status_length + 20))\n",
        "\n",
        "        for name in friends:\n",
        "            status = \"Paid\" if name in payment_status_list else \"Not Paid\"\n",
        "            print(f\"\\t {name:<{max_name_length}} \\t\\t {status:<{max_name_length}}\")\n",
        "\n",
        "    def track_payments(self, balance) -> None:\n",
        "        payment_status_list = []\n",
        "\n",
        "        while True:\n",
        "            payer_name = input(f\"\\nEnter name of person who paid or Press 0 to show payment status: \")\n",
        "            if payer_name == \"0\":\n",
        "                break\n",
        "\n",
        "            if payer_name not in self.friends:\n",
        "                print(f' Invalid Name')\n",
        "            else:\n",
        "                payment_status_list.append(payer_name)\n",
        "\n",
        "            if sorted(self.friends) == sorted(payment_status_list):\n",
        "                break\n",
        "\n",
        "        self.show_payment_status(payment_status_list, self.friends)\n"
      ],
      "metadata": {
        "id": "gm6HM_WETz4w"
      },
      "execution_count": 16,
      "outputs": []
    },
    {
      "cell_type": "code",
      "source": [
        "if __name__ == \"__main__\":\n",
        "    print('\\n\\t\\t\\t\\t\\t\\x1B[4m' + 'Expense Sharing App' + '\\x1B[0m\\n')\n",
        "\n",
        "    app = ExpenseSharingApp()\n",
        "\n",
        "    app.get_friends()\n",
        "\n",
        "    total_amount = float(input(f\"\\nEnter Total Bill Amount: \"))\n",
        "    split_way = input(f\"\\nEnter Split Type (equal or proportional): \")\n",
        "    app.split_bill(total_amount, split_way, None)\n",
        "\n",
        "    app.track_payments(balance=None)"
      ],
      "metadata": {
        "colab": {
          "base_uri": "https://localhost:8080/"
        },
        "id": "f3T9z6nSUuRr",
        "outputId": "0f2e5edf-ed88-4ec6-984c-07dd5b6693ed"
      },
      "execution_count": null,
      "outputs": [
        {
          "output_type": "stream",
          "name": "stdout",
          "text": [
            "\n",
            "\t\t\t\t\t\u001b[4mExpense Sharing App\u001b[0m\n",
            "\n",
            "Enter number of friends among which the bill has to be split: 2\n",
            "Friend 1's name: r\n",
            "Friend 2's name: s\n",
            "\n",
            "Enter Total Bill Amount: 80\n",
            "\n",
            "Enter Split Type (equal or proportional): equal\n",
            "\n",
            "Splitted Bill:\n",
            "\n",
            "\t Name \t\t Amount to be Paid in Rupees\n",
            "\t-------------------------------------------\n",
            "\t R \t\t ₹ 40.0\n",
            "\t S \t\t ₹ 40.0\n",
            "\n",
            "Enter name of person who paid or Press 0 to show payment status: R\n",
            "\n",
            "Enter name of person who paid or Press 0 to show payment status: S\n",
            "\n",
            "Payment Status:\n",
            "\n",
            "\t Name \t\t Paid/Not Paid\n",
            "\t----------------------------------\n",
            "\t R \t\t Paid\n",
            "\t S \t\t Paid\n"
          ]
        }
      ]
    }
  ]
}